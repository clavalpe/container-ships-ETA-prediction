{
 "cells": [
  {
   "cell_type": "code",
   "execution_count": 1,
   "id": "17fe81de",
   "metadata": {},
   "outputs": [
    {
     "data": {
      "text/plain": [
       "6618"
      ]
     },
     "execution_count": 1,
     "metadata": {},
     "output_type": "execute_result"
    }
   ],
   "source": [
    "import pandas as pd\n",
    "import numpy as np\n",
    "from sklearn.preprocessing import StandardScaler\n",
    "from sklearn.neighbors import KNeighborsRegressor\n",
    "from sklearn.metrics import mean_squared_error, mean_absolute_error \n",
    "from math import sqrt\n",
    "import pickle\n",
    "\n",
    "data = pd.read_pickle('../data/data.pickle')\n",
    "len(data)"
   ]
  },
  {
   "cell_type": "markdown",
   "id": "2e857de7",
   "metadata": {},
   "source": [
    "# Preparación datasets de entrenamiento y test"
   ]
  },
  {
   "cell_type": "code",
   "execution_count": 2,
   "id": "acfe4c41",
   "metadata": {
    "scrolled": true
   },
   "outputs": [
    {
     "name": "stdout",
     "output_type": "stream",
     "text": [
      "<class 'pandas.core.frame.DataFrame'>\n",
      "RangeIndex: 730163 entries, 0 to 730162\n",
      "Data columns (total 10 columns):\n",
      " #   Column         Non-Null Count   Dtype  \n",
      "---  ------         --------------   -----  \n",
      " 0   LATITUD        730163 non-null  float64\n",
      " 1   LONGITUD       730163 non-null  float64\n",
      " 2   VELOCIDAD      730163 non-null  float64\n",
      " 3   distance       730163 non-null  float64\n",
      " 4   Av.Speed       730163 non-null  float64\n",
      " 5   Time_Av.Speed  730163 non-null  float64\n",
      " 6   ChangeInSpeed  730163 non-null  float64\n",
      " 7   length         730163 non-null  int64  \n",
      " 8   width          730163 non-null  int64  \n",
      " 9   to_Arrive      730163 non-null  float64\n",
      "dtypes: float64(8), int64(2)\n",
      "memory usage: 55.7 MB\n",
      "<class 'pandas.core.frame.DataFrame'>\n",
      "RangeIndex: 3031831 entries, 0 to 3031830\n",
      "Data columns (total 10 columns):\n",
      " #   Column         Non-Null Count    Dtype  \n",
      "---  ------         --------------    -----  \n",
      " 0   LATITUD        3031831 non-null  float64\n",
      " 1   LONGITUD       3031831 non-null  float64\n",
      " 2   VELOCIDAD      3031831 non-null  float64\n",
      " 3   distance       3031831 non-null  float64\n",
      " 4   Av.Speed       3031831 non-null  float64\n",
      " 5   Time_Av.Speed  3031831 non-null  float64\n",
      " 6   ChangeInSpeed  3031831 non-null  float64\n",
      " 7   length         3031831 non-null  int64  \n",
      " 8   width          3031831 non-null  int64  \n",
      " 9   to_Arrive      3031831 non-null  float64\n",
      "dtypes: float64(8), int64(2)\n",
      "memory usage: 231.3 MB\n"
     ]
    },
    {
     "name": "stderr",
     "output_type": "stream",
     "text": [
      "<ipython-input-2-2cab35440c5c>:32: FutureWarning: null_counts is deprecated. Use show_counts instead\n",
      "  df_data_train.info(null_counts=True)\n"
     ]
    }
   ],
   "source": [
    "# separar dataset de entrenamiento de dataset de test\n",
    "# Output: df_data_test, df_data_train\n",
    "\n",
    "\n",
    "# Paso 1: Listas que contiene rutas de entrenamiento y test\n",
    "size_data_test = round(len(data) * 0.2)\n",
    "\n",
    "data_test = []\n",
    "for i in range(0, size_data_test):\n",
    "    data_test.append(data[i])    \n",
    "\n",
    "    \n",
    "data_train = []\n",
    "for i in range(size_data_test, len(data)):\n",
    "    data_train.append(data[i]) \n",
    "    \n",
    "\n",
    "# Paso 2: Dataframe que contiene las rutas de entrenamiento y test\n",
    "data_test_routes = []\n",
    "for route in data_test:\n",
    "    data_test_routes.append(pd.DataFrame(route))\n",
    "    \n",
    "df_data_test = pd.concat(data_test_routes, ignore_index=True)\n",
    "df_data_test.info()\n",
    "\n",
    "\n",
    "data_train_routes = []\n",
    "for route in data_train:\n",
    "    data_train_routes.append(pd.DataFrame(route))\n",
    "    \n",
    "df_data_train = pd.concat(data_train_routes, ignore_index=True)\n",
    "df_data_train.info(null_counts=True)"
   ]
  },
  {
   "cell_type": "code",
   "execution_count": 3,
   "id": "a527c861",
   "metadata": {},
   "outputs": [],
   "source": [
    "df_data_train = df_data_train.rename(columns={'LATITUD': 'Latitude', 'LONGITUD': 'Longitude', 'VELOCIDAD':'Speed', 'distance':'Distance', 'length':'Length', 'width':'Width'})\n",
    "df_data_test = df_data_test.rename(columns={'LATITUD': 'Latitude', 'LONGITUD': 'Longitude', 'VELOCIDAD':'Speed', 'distance':'Distance', 'length':'Length', 'width':'Width'})\n",
    "\n",
    "#df_data_train.info(null_counts=True)\n",
    "#df_data_test.info(null_counts=True)"
   ]
  },
  {
   "cell_type": "markdown",
   "id": "95335c4a",
   "metadata": {},
   "source": [
    "# Entrenamiento del algoritmo"
   ]
  },
  {
   "cell_type": "code",
   "execution_count": 4,
   "id": "ac4a27af",
   "metadata": {},
   "outputs": [],
   "source": [
    "# Selección de features\n",
    "X_test = df_data_test[['Longitude', 'Latitude', 'Speed', 'Length', 'Width']]  #,'WinDir'\n",
    "y_test = df_data_test[\"to_Arrive\"].values.reshape(-1, 1)\n",
    "\n",
    "X_train = df_data_train[['Longitude', 'Latitude', 'Speed', 'Length', 'Width']]\n",
    "y_train = df_data_train[\"to_Arrive\"].values.reshape(-1, 1)\n",
    "\n",
    "# Escalado de features\n",
    "X_scaler = StandardScaler().fit(X_train)\n",
    "y_scaler = StandardScaler().fit(y_train)\n",
    "\n",
    "X_train = X_scaler.fit_transform(X_train)\n",
    "y_train = y_scaler.fit_transform(y_train)\n",
    "\n",
    "X_test = X_scaler.fit_transform(X_test)\n",
    "y_test = y_scaler.fit_transform(y_test)"
   ]
  },
  {
   "cell_type": "code",
   "execution_count": 5,
   "id": "bbd72230",
   "metadata": {},
   "outputs": [
    {
     "name": "stdout",
     "output_type": "stream",
     "text": [
      "KNeighborsRegressor(n_neighbors=180)\n",
      "Empezando a entrenar test de entrenamiento\n"
     ]
    }
   ],
   "source": [
    "# Entrenamiento\n",
    "model = KNeighborsRegressor(n_neighbors=180)\n",
    "print(model)\n",
    "\n",
    "KNeighborsRegressor(algorithm='auto', leaf_size=30, metric='minkowski',\n",
    "          metric_params=None, n_jobs=1, n_neighbors=70, p=2,\n",
    "          weights='uniform') \n",
    "\n",
    "model.fit(X_train,y_train)\n",
    "\n",
    "y_test_hat = model.predict(X_test)\n",
    "print('Empezando a entrenar test de entrenamiento')\n",
    "y_train_hat = model.predict(X_train)"
   ]
  },
  {
   "cell_type": "markdown",
   "id": "012376a8",
   "metadata": {},
   "source": [
    "# Validation metrics"
   ]
  },
  {
   "cell_type": "code",
   "execution_count": 6,
   "id": "3c9b1ca7",
   "metadata": {},
   "outputs": [
    {
     "name": "stdout",
     "output_type": "stream",
     "text": [
      "Entrenamiento 0.8097695752685603\n",
      "Prueba 0.6314676608370637\n"
     ]
    }
   ],
   "source": [
    "from sklearn.metrics import r2_score\n",
    "# Calculamos el error\n",
    "print(\"Entrenamiento\", r2_score(y_train, y_train_hat))\n",
    "print(\"Prueba\", r2_score(y_test, y_test_hat))"
   ]
  },
  {
   "cell_type": "code",
   "execution_count": 7,
   "id": "e01bb750",
   "metadata": {},
   "outputs": [
    {
     "name": "stdout",
     "output_type": "stream",
     "text": [
      "Mean Absolute Error: 23.68804869046586\n"
     ]
    }
   ],
   "source": [
    "y_test = y_scaler.inverse_transform(y_test)\n",
    "y_test_hat = y_scaler.inverse_transform(y_test_hat)\n",
    "\n",
    "mae = mean_absolute_error(y_test, y_test_hat)\n",
    "print(\"Mean Absolute Error:\",mae)"
   ]
  },
  {
   "cell_type": "code",
   "execution_count": 8,
   "id": "518f0774",
   "metadata": {},
   "outputs": [
    {
     "name": "stdout",
     "output_type": "stream",
     "text": [
      "Mean Squared Error: 1679.9943958836989\n"
     ]
    }
   ],
   "source": [
    "mse =mean_squared_error(y_test, y_test_hat)\n",
    "print(\"Mean Squared Error:\",mse)"
   ]
  },
  {
   "cell_type": "code",
   "execution_count": 9,
   "id": "eed0a7e0",
   "metadata": {},
   "outputs": [
    {
     "name": "stdout",
     "output_type": "stream",
     "text": [
      "Root Mean Squared Error: 40.98773470056254\n"
     ]
    }
   ],
   "source": [
    "rmse = sqrt(mse)\n",
    "print(\"Root Mean Squared Error:\", rmse)"
   ]
  },
  {
   "cell_type": "code",
   "execution_count": 10,
   "id": "0ec42b47",
   "metadata": {},
   "outputs": [],
   "source": [
    "error = y_test_hat - y_test"
   ]
  },
  {
   "cell_type": "code",
   "execution_count": 11,
   "id": "0324fa85",
   "metadata": {},
   "outputs": [
    {
     "name": "stderr",
     "output_type": "stream",
     "text": [
      "C:\\Users\\usuario\\anaconda3\\lib\\site-packages\\seaborn\\distributions.py:2557: FutureWarning: `distplot` is a deprecated function and will be removed in a future version. Please adapt your code to use either `displot` (a figure-level function with similar flexibility) or `histplot` (an axes-level function for histograms).\n",
      "  warnings.warn(msg, FutureWarning)\n"
     ]
    },
    {
     "data": {
      "image/png": "[encoded data removed]",
      "text/plain": [
       "<Figure size 432x288 with 1 Axes>"
      ]
     },
     "metadata": {},
     "output_type": "display_data"
    }
   ],
   "source": [
    "import seaborn as sns, numpy as np\n",
    "sns.set_theme(); np.random.seed(0)\n",
    "ax = sns.distplot(error)"
   ]
  },
  {
   "cell_type": "code",
   "execution_count": null,
   "id": "47ff4590",
   "metadata": {},
   "outputs": [],
   "source": [
    "import matplotlib.pyplot as plt\n",
    "X_test = X_scaler.inverse_transform(X_test)   \n",
    "distance = X_test[:,5]\n",
    "errors = abs(y_test_hat - y_test)\n",
    " \n",
    "# plotting\n",
    "plt.title(\"Distance vs Error\")\n",
    "plt.xlabel(\"Distance\")\n",
    "plt.ylabel(\"Error\")\n",
    "plt.scatter(distance, errors, color =\"red\")\n",
    "plt.show()"
   ]
  },
  {
   "cell_type": "markdown",
   "id": "f21ec198",
   "metadata": {},
   "source": [
    "# Guardar modelo"
   ]
  },
  {
   "cell_type": "code",
   "execution_count": 13,
   "id": "2085845a",
   "metadata": {},
   "outputs": [],
   "source": [
    "pickle.dump(model, open('models/knn_weather_model_180.sav', 'wb'))\n",
    "pickle.dump(X_scaler, open('models/knn_weather_X_scaler.sav', 'wb'))\n",
    "pickle.dump(y_scaler, open('models/knn_weather_y_scaler.sav', 'wb'))"
   ]
  },
  {
   "cell_type": "markdown",
   "id": "400092ab",
   "metadata": {},
   "source": [
    "# Error rate for different k values"
   ]
  },
  {
   "cell_type": "code",
   "execution_count": null,
   "id": "e5b4449a",
   "metadata": {},
   "outputs": [],
   "source": [
    "rmse_val = [] #to store rmse values for different k\n",
    "for K in range(100,200,50):\n",
    "#for K in range(200,500,20):\n",
    "    K = K+1\n",
    "    model = KNeighborsRegressor(n_neighbors = K)\n",
    "    \n",
    "    KNeighborsRegressor(algorithm='auto', leaf_size=30, metric='minkowski',\n",
    "          metric_params=None, n_jobs=1, n_neighbors=K, p=2,\n",
    "          weights='uniform')\n",
    "\n",
    "    model.fit(X_train, y_train)  #fit the model\n",
    "    pred=model.predict(X_test) #make prediction on test set\n",
    "    error = sqrt(mean_squared_error(y_test,pred)) #calculate rmse\n",
    "    rmse_val.append(error) #store rmse values\n",
    "    #print('RMSE value for k= ' , K , 'is:', error)"
   ]
  },
  {
   "cell_type": "code",
   "execution_count": null,
   "id": "aafe3c20",
   "metadata": {},
   "outputs": [],
   "source": [
    "#plotting the rmse values against k values\n",
    "curve = pd.DataFrame(rmse_val) \n",
    "curve.plot()"
   ]
  }
 ],
 "metadata": {
  "kernelspec": {
   "display_name": "Python 3",
   "language": "python",
   "name": "python3"
  },
  "language_info": {
   "codemirror_mode": {
    "name": "ipython",
    "version": 3
   },
   "file_extension": ".py",
   "mimetype": "text/x-python",
   "name": "python",
   "nbconvert_exporter": "python",
   "pygments_lexer": "ipython3",
   "version": "3.8.10"
  }
 },
 "nbformat": 4,
 "nbformat_minor": 5
}
